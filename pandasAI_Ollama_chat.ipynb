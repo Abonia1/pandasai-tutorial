{
 "cells": [
  {
   "cell_type": "markdown",
   "metadata": {},
   "source": [
    "## PandasAI and Ollama\n",
    "\n",
    "### Data Analysis: Efficiency and Accessibility\n",
    "\n",
    "In the field of data analysis, efficiency and accessibility are paramount for extracting valuable insights from complex datasets. PandasAI, an innovative Python library, marks a significant advancement by seamlessly integrating generative AI capabilities with the widely used pandas data manipulation tool. This groundbreaking fusion empowers users to interact with their data conversationally, uncovering hidden patterns, generating meaningful insights, and performing data transformations without extensive coding expertise.\n",
    "\n",
    "![PandasAI](https://encrypted-tbn0.gstatic.com/images?q=tbn:ANd9GcQXhafqtiy_CmQD2vSoLgDyMNZZ95SjSTQdcw&s)\n",
    "\n",
    "\n",
    "### Unlocking the Power of Conversational Data Analysis\n",
    "\n",
    "PandasAI leverages large language models (LLMs), trained on vast amounts of text data, to comprehend and respond to natural language queries. This functionality allows users to query their data in a simple, intuitive manner, akin to conversing with an intelligent assistant. For instance, users can instruct PandasAI to:\n",
    "\n",
    "- Summarize data using descriptive statistics\n",
    "- Identify trends and patterns within the dataset\n",
    "- Visualize data through interactive charts and graphs\n",
    "- Generate new features from existing data to enhance predictive modeling\n",
    "\n",
    "### Automating Repetitive Tasks to Enhance Efficiency\n",
    "\n",
    "PandasAI streamlines the data analysis process by automating many repetitive tasks that typically consume valuable time. This automation enables users to focus on deriving meaningful insights rather than spending hours on tedious data preparation and manipulation.\n",
    "\n",
    "### Achieving Accurate and Insightful Results\n",
    "\n",
    "PandasAI harnesses the advanced capabilities of LLMs to extract accurate and insightful information from data. It can identify subtle patterns, uncover hidden correlations, and generate comprehensive summaries, all while maintaining a high level of accuracy."
   ]
  },
  {
   "cell_type": "code",
   "execution_count": 1,
   "metadata": {},
   "outputs": [
    {
     "name": "stdout",
     "output_type": "stream",
     "text": [
      "Requirement already satisfied: pandasai in /Users/aboniasojasingarayar/miniconda3/lib/python3.11/site-packages (2.2.12)\n",
      "Requirement already satisfied: astor<0.9.0,>=0.8.1 in /Users/aboniasojasingarayar/miniconda3/lib/python3.11/site-packages (from pandasai) (0.8.1)\n",
      "Requirement already satisfied: duckdb<2.0.0,>=1.0.0 in /Users/aboniasojasingarayar/miniconda3/lib/python3.11/site-packages (from pandasai) (1.0.0)\n",
      "Requirement already satisfied: faker<20.0.0,>=19.12.0 in /Users/aboniasojasingarayar/miniconda3/lib/python3.11/site-packages (from pandasai) (19.13.0)\n",
      "Requirement already satisfied: jinja2<4.0.0,>=3.1.3 in /Users/aboniasojasingarayar/miniconda3/lib/python3.11/site-packages (from pandasai) (3.1.3)\n",
      "Requirement already satisfied: matplotlib<4.0.0,>=3.7.1 in /Users/aboniasojasingarayar/miniconda3/lib/python3.11/site-packages (from pandasai) (3.8.4)\n",
      "Requirement already satisfied: openai<2 in /Users/aboniasojasingarayar/miniconda3/lib/python3.11/site-packages (from pandasai) (1.13.3)\n",
      "Requirement already satisfied: pandas==1.5.3 in /Users/aboniasojasingarayar/miniconda3/lib/python3.11/site-packages (from pandasai) (1.5.3)\n",
      "Requirement already satisfied: pillow<11.0.0,>=10.1.0 in /Users/aboniasojasingarayar/miniconda3/lib/python3.11/site-packages (from pandasai) (10.2.0)\n",
      "Requirement already satisfied: pydantic<3,>=1 in /Users/aboniasojasingarayar/miniconda3/lib/python3.11/site-packages (from pandasai) (2.6.3)\n",
      "Requirement already satisfied: python-dotenv<2.0.0,>=1.0.0 in /Users/aboniasojasingarayar/miniconda3/lib/python3.11/site-packages (from pandasai) (1.0.1)\n",
      "Requirement already satisfied: requests<3.0.0,>=2.31.0 in /Users/aboniasojasingarayar/miniconda3/lib/python3.11/site-packages (from pandasai) (2.31.0)\n",
      "Requirement already satisfied: scipy<2.0.0,>=1.9.0 in /Users/aboniasojasingarayar/miniconda3/lib/python3.11/site-packages (from pandasai) (1.12.0)\n",
      "Requirement already satisfied: sqlalchemy<3,>=1.4 in /Users/aboniasojasingarayar/miniconda3/lib/python3.11/site-packages (from pandasai) (2.0.27)\n",
      "Requirement already satisfied: sqlglot<26.0.0,>=25.0.3 in /Users/aboniasojasingarayar/miniconda3/lib/python3.11/site-packages (from sqlglot[rs]<26.0.0,>=25.0.3->pandasai) (25.8.1)\n",
      "Requirement already satisfied: python-dateutil>=2.8.1 in /Users/aboniasojasingarayar/miniconda3/lib/python3.11/site-packages (from pandas==1.5.3->pandasai) (2.8.2)\n",
      "Requirement already satisfied: pytz>=2020.1 in /Users/aboniasojasingarayar/miniconda3/lib/python3.11/site-packages (from pandas==1.5.3->pandasai) (2024.1)\n",
      "Requirement already satisfied: numpy>=1.21.0 in /Users/aboniasojasingarayar/miniconda3/lib/python3.11/site-packages (from pandas==1.5.3->pandasai) (1.26.4)\n",
      "Requirement already satisfied: MarkupSafe>=2.0 in /Users/aboniasojasingarayar/miniconda3/lib/python3.11/site-packages (from jinja2<4.0.0,>=3.1.3->pandasai) (2.1.5)\n",
      "Requirement already satisfied: contourpy>=1.0.1 in /Users/aboniasojasingarayar/miniconda3/lib/python3.11/site-packages (from matplotlib<4.0.0,>=3.7.1->pandasai) (1.2.0)\n",
      "Requirement already satisfied: cycler>=0.10 in /Users/aboniasojasingarayar/miniconda3/lib/python3.11/site-packages (from matplotlib<4.0.0,>=3.7.1->pandasai) (0.12.1)\n",
      "Requirement already satisfied: fonttools>=4.22.0 in /Users/aboniasojasingarayar/miniconda3/lib/python3.11/site-packages (from matplotlib<4.0.0,>=3.7.1->pandasai) (4.51.0)\n",
      "Requirement already satisfied: kiwisolver>=1.3.1 in /Users/aboniasojasingarayar/miniconda3/lib/python3.11/site-packages (from matplotlib<4.0.0,>=3.7.1->pandasai) (1.4.5)\n",
      "Requirement already satisfied: packaging>=20.0 in /Users/aboniasojasingarayar/miniconda3/lib/python3.11/site-packages (from matplotlib<4.0.0,>=3.7.1->pandasai) (23.2)\n",
      "Requirement already satisfied: pyparsing>=2.3.1 in /Users/aboniasojasingarayar/miniconda3/lib/python3.11/site-packages (from matplotlib<4.0.0,>=3.7.1->pandasai) (3.1.2)\n",
      "Requirement already satisfied: anyio<5,>=3.5.0 in /Users/aboniasojasingarayar/miniconda3/lib/python3.11/site-packages (from openai<2->pandasai) (4.3.0)\n",
      "Requirement already satisfied: distro<2,>=1.7.0 in /Users/aboniasojasingarayar/miniconda3/lib/python3.11/site-packages (from openai<2->pandasai) (1.8.0)\n",
      "Requirement already satisfied: httpx<1,>=0.23.0 in /Users/aboniasojasingarayar/miniconda3/lib/python3.11/site-packages (from openai<2->pandasai) (0.27.0)\n",
      "Requirement already satisfied: sniffio in /Users/aboniasojasingarayar/miniconda3/lib/python3.11/site-packages (from openai<2->pandasai) (1.3.0)\n",
      "Requirement already satisfied: tqdm>4 in /Users/aboniasojasingarayar/miniconda3/lib/python3.11/site-packages (from openai<2->pandasai) (4.66.2)\n",
      "Requirement already satisfied: typing-extensions<5,>=4.7 in /Users/aboniasojasingarayar/miniconda3/lib/python3.11/site-packages (from openai<2->pandasai) (4.9.0)\n",
      "Requirement already satisfied: annotated-types>=0.4.0 in /Users/aboniasojasingarayar/miniconda3/lib/python3.11/site-packages (from pydantic<3,>=1->pandasai) (0.6.0)\n",
      "Requirement already satisfied: pydantic-core==2.16.3 in /Users/aboniasojasingarayar/miniconda3/lib/python3.11/site-packages (from pydantic<3,>=1->pandasai) (2.16.3)\n",
      "Requirement already satisfied: charset-normalizer<4,>=2 in /Users/aboniasojasingarayar/miniconda3/lib/python3.11/site-packages (from requests<3.0.0,>=2.31.0->pandasai) (2.0.4)\n",
      "Requirement already satisfied: idna<4,>=2.5 in /Users/aboniasojasingarayar/miniconda3/lib/python3.11/site-packages (from requests<3.0.0,>=2.31.0->pandasai) (3.4)\n",
      "Requirement already satisfied: urllib3<3,>=1.21.1 in /Users/aboniasojasingarayar/miniconda3/lib/python3.11/site-packages (from requests<3.0.0,>=2.31.0->pandasai) (2.0.7)\n",
      "Requirement already satisfied: certifi>=2017.4.17 in /Users/aboniasojasingarayar/miniconda3/lib/python3.11/site-packages (from requests<3.0.0,>=2.31.0->pandasai) (2024.2.2)\n",
      "Requirement already satisfied: sqlglotrs==0.2.8 in /Users/aboniasojasingarayar/miniconda3/lib/python3.11/site-packages (from sqlglot[rs]<26.0.0,>=25.0.3->pandasai) (0.2.8)\n",
      "Requirement already satisfied: httpcore==1.* in /Users/aboniasojasingarayar/miniconda3/lib/python3.11/site-packages (from httpx<1,>=0.23.0->openai<2->pandasai) (1.0.4)\n",
      "Requirement already satisfied: h11<0.15,>=0.13 in /Users/aboniasojasingarayar/miniconda3/lib/python3.11/site-packages (from httpcore==1.*->httpx<1,>=0.23.0->openai<2->pandasai) (0.14.0)\n",
      "Requirement already satisfied: six>=1.5 in /Users/aboniasojasingarayar/miniconda3/lib/python3.11/site-packages (from python-dateutil>=2.8.1->pandas==1.5.3->pandasai) (1.16.0)\n",
      "\n",
      "\u001b[1m[\u001b[0m\u001b[34;49mnotice\u001b[0m\u001b[1;39;49m]\u001b[0m\u001b[39;49m A new release of pip is available: \u001b[0m\u001b[31;49m24.0\u001b[0m\u001b[39;49m -> \u001b[0m\u001b[32;49m24.2\u001b[0m\n",
      "\u001b[1m[\u001b[0m\u001b[34;49mnotice\u001b[0m\u001b[1;39;49m]\u001b[0m\u001b[39;49m To update, run: \u001b[0m\u001b[32;49mpip install --upgrade pip\u001b[0m\n"
     ]
    }
   ],
   "source": [
    "!pip install pandasai"
   ]
  },
  {
   "cell_type": "code",
   "execution_count": 2,
   "metadata": {},
   "outputs": [
    {
     "name": "stdout",
     "output_type": "stream",
     "text": [
      "Name: pandasai\n",
      "Version: 2.2.12\n",
      "Summary: Chat with your database (SQL, CSV, pandas, polars, mongodb, noSQL, etc). PandasAI makes data analysis conversational using LLMs (GPT 3.5 / 4, Anthropic, VertexAI) and RAG.\n",
      "Home-page: \n",
      "Author: Gabriele Venturi\n",
      "Author-email: \n",
      "License: MIT\n",
      "Location: /Users/aboniasojasingarayar/Library/Python/3.9/lib/python/site-packages\n",
      "Requires: pillow, pandas, duckdb, sqlalchemy, astor, scipy, sqlglot, matplotlib, requests, openai, pydantic, python-dotenv, jinja2, faker\n",
      "Required-by: \n",
      "Note: you may need to restart the kernel to use updated packages.\n"
     ]
    }
   ],
   "source": [
    "pip show pandasai"
   ]
  },
  {
   "cell_type": "markdown",
   "metadata": {},
   "source": [
    "### EDA"
   ]
  },
  {
   "cell_type": "code",
   "execution_count": 2,
   "metadata": {},
   "outputs": [
    {
     "name": "stderr",
     "output_type": "stream",
     "text": [
      "/Users/aboniasojasingarayar/Library/Python/3.9/lib/python/site-packages/urllib3/__init__.py:35: NotOpenSSLWarning: urllib3 v2 only supports OpenSSL 1.1.1+, currently the 'ssl' module is compiled with 'LibreSSL 2.8.3'. See: https://github.com/urllib3/urllib3/issues/3020\n",
      "  warnings.warn(\n"
     ]
    }
   ],
   "source": [
    "\n",
    "from pandasai import SmartDataframe\n",
    "from pandasai.llm.local_llm import LocalLLM\n",
    "import seaborn as sns \n",
    "\n",
    "# Load the Titanic dataset\n",
    "data = sns.load_dataset('titanic')\n",
    "\n",
    "ollama_llm = LocalLLM(api_base=\"http://localhost:11434/v1\", model=\"mistral\")\n",
    "df = SmartDataframe(data, config={\"llm\": ollama_llm})"
   ]
  },
  {
   "cell_type": "code",
   "execution_count": 4,
   "metadata": {},
   "outputs": [
    {
     "data": {
      "text/html": [
       "<div>\n",
       "<style scoped>\n",
       "    .dataframe tbody tr th:only-of-type {\n",
       "        vertical-align: middle;\n",
       "    }\n",
       "\n",
       "    .dataframe tbody tr th {\n",
       "        vertical-align: top;\n",
       "    }\n",
       "\n",
       "    .dataframe thead th {\n",
       "        text-align: right;\n",
       "    }\n",
       "</style>\n",
       "<table border=\"1\" class=\"dataframe\">\n",
       "  <thead>\n",
       "    <tr style=\"text-align: right;\">\n",
       "      <th></th>\n",
       "      <th>survived</th>\n",
       "      <th>pclass</th>\n",
       "      <th>sex</th>\n",
       "      <th>age</th>\n",
       "      <th>sibsp</th>\n",
       "      <th>parch</th>\n",
       "      <th>fare</th>\n",
       "      <th>embarked</th>\n",
       "      <th>class</th>\n",
       "      <th>who</th>\n",
       "      <th>adult_male</th>\n",
       "      <th>deck</th>\n",
       "      <th>embark_town</th>\n",
       "      <th>alive</th>\n",
       "      <th>alone</th>\n",
       "    </tr>\n",
       "  </thead>\n",
       "  <tbody>\n",
       "    <tr>\n",
       "      <th>0</th>\n",
       "      <td>0</td>\n",
       "      <td>3</td>\n",
       "      <td>male</td>\n",
       "      <td>22.0</td>\n",
       "      <td>1</td>\n",
       "      <td>0</td>\n",
       "      <td>7.2500</td>\n",
       "      <td>S</td>\n",
       "      <td>Third</td>\n",
       "      <td>man</td>\n",
       "      <td>True</td>\n",
       "      <td>NaN</td>\n",
       "      <td>Southampton</td>\n",
       "      <td>no</td>\n",
       "      <td>False</td>\n",
       "    </tr>\n",
       "    <tr>\n",
       "      <th>1</th>\n",
       "      <td>1</td>\n",
       "      <td>1</td>\n",
       "      <td>female</td>\n",
       "      <td>38.0</td>\n",
       "      <td>1</td>\n",
       "      <td>0</td>\n",
       "      <td>71.2833</td>\n",
       "      <td>C</td>\n",
       "      <td>First</td>\n",
       "      <td>woman</td>\n",
       "      <td>False</td>\n",
       "      <td>C</td>\n",
       "      <td>Cherbourg</td>\n",
       "      <td>yes</td>\n",
       "      <td>False</td>\n",
       "    </tr>\n",
       "    <tr>\n",
       "      <th>2</th>\n",
       "      <td>1</td>\n",
       "      <td>3</td>\n",
       "      <td>female</td>\n",
       "      <td>26.0</td>\n",
       "      <td>0</td>\n",
       "      <td>0</td>\n",
       "      <td>7.9250</td>\n",
       "      <td>S</td>\n",
       "      <td>Third</td>\n",
       "      <td>woman</td>\n",
       "      <td>False</td>\n",
       "      <td>NaN</td>\n",
       "      <td>Southampton</td>\n",
       "      <td>yes</td>\n",
       "      <td>True</td>\n",
       "    </tr>\n",
       "    <tr>\n",
       "      <th>3</th>\n",
       "      <td>1</td>\n",
       "      <td>1</td>\n",
       "      <td>female</td>\n",
       "      <td>35.0</td>\n",
       "      <td>1</td>\n",
       "      <td>0</td>\n",
       "      <td>53.1000</td>\n",
       "      <td>S</td>\n",
       "      <td>First</td>\n",
       "      <td>woman</td>\n",
       "      <td>False</td>\n",
       "      <td>C</td>\n",
       "      <td>Southampton</td>\n",
       "      <td>yes</td>\n",
       "      <td>False</td>\n",
       "    </tr>\n",
       "    <tr>\n",
       "      <th>4</th>\n",
       "      <td>0</td>\n",
       "      <td>3</td>\n",
       "      <td>male</td>\n",
       "      <td>35.0</td>\n",
       "      <td>0</td>\n",
       "      <td>0</td>\n",
       "      <td>8.0500</td>\n",
       "      <td>S</td>\n",
       "      <td>Third</td>\n",
       "      <td>man</td>\n",
       "      <td>True</td>\n",
       "      <td>NaN</td>\n",
       "      <td>Southampton</td>\n",
       "      <td>no</td>\n",
       "      <td>True</td>\n",
       "    </tr>\n",
       "  </tbody>\n",
       "</table>\n",
       "</div>"
      ],
      "text/plain": [
       "   survived  pclass     sex   age  sibsp  parch     fare embarked  class  \\\n",
       "0         0       3    male  22.0      1      0   7.2500        S  Third   \n",
       "1         1       1  female  38.0      1      0  71.2833        C  First   \n",
       "2         1       3  female  26.0      0      0   7.9250        S  Third   \n",
       "3         1       1  female  35.0      1      0  53.1000        S  First   \n",
       "4         0       3    male  35.0      0      0   8.0500        S  Third   \n",
       "\n",
       "     who  adult_male deck  embark_town alive  alone  \n",
       "0    man        True  NaN  Southampton    no  False  \n",
       "1  woman       False    C    Cherbourg   yes  False  \n",
       "2  woman       False  NaN  Southampton   yes   True  \n",
       "3  woman       False    C  Southampton   yes  False  \n",
       "4    man        True  NaN  Southampton    no   True  "
      ]
     },
     "execution_count": 4,
     "metadata": {},
     "output_type": "execute_result"
    }
   ],
   "source": [
    "data.head()"
   ]
  },
  {
   "cell_type": "code",
   "execution_count": 5,
   "metadata": {},
   "outputs": [
    {
     "name": "stdout",
     "output_type": "stream",
     "text": [
      "The survived passengers represent 38.38% of the entire dataset.\n"
     ]
    },
    {
     "name": "stderr",
     "output_type": "stream",
     "text": [
      "<string>:2: SettingWithCopyWarning: \n",
      "A value is trying to be set on a copy of a slice from a DataFrame.\n",
      "Try using .loc[row_indexer,col_indexer] = value instead\n",
      "\n",
      "See the caveats in the documentation: https://pandas.pydata.org/pandas-docs/stable/user_guide/indexing.html#returning-a-view-versus-a-copy\n"
     ]
    },
    {
     "data": {
      "text/plain": [
       "38.38"
      ]
     },
     "execution_count": 5,
     "metadata": {},
     "output_type": "execute_result"
    }
   ],
   "source": [
    "response = df.chat(\"\"\"Return the survived class in percentage\"\"\")\n",
    "response"
   ]
  },
  {
   "cell_type": "code",
   "execution_count": 6,
   "metadata": {},
   "outputs": [
    {
     "data": {
      "text/plain": [
       "89"
      ]
     },
     "execution_count": 6,
     "metadata": {},
     "output_type": "execute_result"
    }
   ],
   "source": [
    "unique_counts = df.chat(\"\"\"Count the unique values in the 'age' column.\"\"\")\n",
    "unique_counts"
   ]
  },
  {
   "cell_type": "code",
   "execution_count": null,
   "metadata": {},
   "outputs": [],
   "source": [
    "unique_values = df.chat(\"\"\"Count the unique values in the 'embarked' column.\"\"\")\n",
    "unique_values"
   ]
  },
  {
   "cell_type": "code",
   "execution_count": null,
   "metadata": {},
   "outputs": [],
   "source": [
    "#Data Summary\n",
    "summary = df.chat(\"\"\"Can you get me the statistical summary of the dataset\"\"\")\n",
    "\n",
    "#Class percentage\n",
    "surv_pclass_perc = df.chat(\"\"\"Return the survived in percentage breakdown by pclass\"\"\")\n",
    "\n",
    "#Missing Data\n",
    "missing_data_perc = df.chat(\"\"\"Return the missing data percentage for the columns\"\"\")\n",
    "\n",
    "#Outlier Data\n",
    "outlier_fare_data = df.chat(\"\"\"Please provide me the data rows that\n",
    "contains outlier data based on fare column\"\"\")"
   ]
  },
  {
   "cell_type": "markdown",
   "metadata": {},
   "source": [
    "## Data Visualization"
   ]
  },
  {
   "cell_type": "code",
   "execution_count": 3,
   "metadata": {},
   "outputs": [
    {
     "name": "stderr",
     "output_type": "stream",
     "text": [
      "Traceback (most recent call last):\n",
      "  File \"/Users/aboniasojasingarayar/Library/Python/3.9/lib/python/site-packages/pandasai/pipelines/chat/code_execution.py\", line 97, in execute\n",
      "    raise InvalidOutputValueMismatch(\n",
      "pandasai.exceptions.InvalidOutputValueMismatch: Value type <class 'NoneType'> must match with type plot\n",
      "\n",
      "During handling of the above exception, another exception occurred:\n",
      "\n",
      "Traceback (most recent call last):\n",
      "  File \"/Users/aboniasojasingarayar/Library/Python/3.9/lib/python/site-packages/pandasai/pipelines/chat/generate_chat_pipeline.py\", line 333, in run\n",
      "    output = (\n",
      "  File \"/Users/aboniasojasingarayar/Library/Python/3.9/lib/python/site-packages/pandasai/pipelines/pipeline.py\", line 137, in run\n",
      "    raise e\n",
      "  File \"/Users/aboniasojasingarayar/Library/Python/3.9/lib/python/site-packages/pandasai/pipelines/pipeline.py\", line 101, in run\n",
      "    step_output = logic.execute(\n",
      "  File \"/Users/aboniasojasingarayar/Library/Python/3.9/lib/python/site-packages/pandasai/pipelines/chat/code_execution.py\", line 125, in execute\n",
      "    code_to_run = self._retry_run_code(\n",
      "  File \"/Users/aboniasojasingarayar/Library/Python/3.9/lib/python/site-packages/pandasai/pipelines/chat/code_execution.py\", line 346, in _retry_run_code\n",
      "    return self.on_retry(code, e)\n",
      "  File \"/Users/aboniasojasingarayar/Library/Python/3.9/lib/python/site-packages/pandasai/pipelines/chat/generate_chat_pipeline.py\", line 162, in on_code_retry\n",
      "    return self.code_exec_error_pipeline.run(correction_input)\n",
      "  File \"/Users/aboniasojasingarayar/Library/Python/3.9/lib/python/site-packages/pandasai/pipelines/chat/error_correction_pipeline/error_correction_pipeline.py\", line 48, in run\n",
      "    return self.pipeline.run(input)\n",
      "  File \"/Users/aboniasojasingarayar/Library/Python/3.9/lib/python/site-packages/pandasai/pipelines/pipeline.py\", line 137, in run\n",
      "    raise e\n",
      "  File \"/Users/aboniasojasingarayar/Library/Python/3.9/lib/python/site-packages/pandasai/pipelines/pipeline.py\", line 101, in run\n",
      "    step_output = logic.execute(\n",
      "  File \"/Users/aboniasojasingarayar/Library/Python/3.9/lib/python/site-packages/pandasai/pipelines/chat/code_generator.py\", line 33, in execute\n",
      "    code = pipeline_context.config.llm.generate_code(input, pipeline_context)\n",
      "  File \"/Users/aboniasojasingarayar/Library/Python/3.9/lib/python/site-packages/pandasai/llm/base.py\", line 202, in generate_code\n",
      "    return self._extract_code(response)\n",
      "  File \"/Users/aboniasojasingarayar/Library/Python/3.9/lib/python/site-packages/pandasai/llm/base.py\", line 127, in _extract_code\n",
      "    raise NoCodeFoundError(\"No code found in the response\")\n",
      "pandasai.exceptions.NoCodeFoundError: No code found in the response\n"
     ]
    },
    {
     "data": {
      "image/png": "[encoded data removed]",
      "text/plain": [
       "<Figure size 640x480 with 1 Axes>"
      ]
     },
     "metadata": {},
     "output_type": "display_data"
    },
    {
     "data": {
      "image/png": "[encoded data removed]",
      "text/plain": [
       "<Figure size 640x480 with 1 Axes>"
      ]
     },
     "metadata": {},
     "output_type": "display_data"
    }
   ],
   "source": [
    "import pandas as pd\n",
    "# Sample DataFrame\n",
    "sales_by_country = pd.DataFrame({\n",
    "    \"country\": [\"United States\", \"United Kingdom\", \"France\", \"Germany\", \"Italy\", \"Spain\", \"Canada\", \"Australia\", \"Japan\", \"China\"],\n",
    "    \"sales\": [5000, 3200, 2900, 4100, 2300, 2100, 2500, 2600, 4500, 7000]\n",
    "})\n",
    "\n",
    "ollama_llm = LocalLLM(api_base=\"http://localhost:11434/v1\", model=\"mistral\")\n",
    "df = SmartDataframe(sales_by_country, config={\"llm\": ollama_llm})\n",
    "\n",
    "sales_plot = df.chat(\"\"\"Plot the sales data by country.\"\"\")"
   ]
  },
  {
   "cell_type": "code",
   "execution_count": null,
   "metadata": {},
   "outputs": [],
   "source": [
    "kde_plot = df.chat(\"\"\"Please plot the kde distribution of age column and separate them with survived column\"\"\")\n",
    "\n",
    "box_plot = df.chat(\"\"\"Return me the box plot visualization of the age column separated by sex\"\"\")\n",
    "\n",
    "heat_map = df.chat(\"\"\"Give me heat map plot to visualize the numerical columns correlation\"\"\")\n",
    "\n",
    "count_plot = df.chat(\"\"\"Visualize the categorical column sex and survived\"\"\")"
   ]
  },
  {
   "cell_type": "code",
   "execution_count": null,
   "metadata": {},
   "outputs": [],
   "source": [
    "response = df.chat('Please provide me the fare data distribution visualization')\n",
    "response"
   ]
  },
  {
   "cell_type": "markdown",
   "metadata": {},
   "source": [
    "## Data Transformation:"
   ]
  },
  {
   "cell_type": "code",
   "execution_count": null,
   "metadata": {},
   "outputs": [],
   "source": [
    "\n",
    "# Standardize numerical data using natural language\n",
    "print(pandas_ai.run(df, prompt=\"Standardize the 'Fare' column\"))"
   ]
  },
  {
   "cell_type": "markdown",
   "metadata": {},
   "source": [
    "## Feature Engineering:"
   ]
  },
  {
   "cell_type": "code",
   "execution_count": null,
   "metadata": {},
   "outputs": [],
   "source": [
    "# Generate new features using natural language\n",
    "print(pandas_ai.run(df, prompt=\"Create a new feature 'Passenger Class Group' based on 'Pclass'\"))"
   ]
  },
  {
   "cell_type": "markdown",
   "metadata": {},
   "source": [
    "### Pandas AI Skills and Agents"
   ]
  },
  {
   "cell_type": "code",
   "execution_count": null,
   "metadata": {},
   "outputs": [],
   "source": [
    "import pandas as pd\n",
    "from pandasai import Agent\n",
    "from pandasai.skills import skill\n",
    "\n",
    "employees_data = {\n",
    "    \"EmployeeID\": [1, 2, 3, 4, 5],\n",
    "    \"Name\": [\"John\", \"Emma\", \"Liam\", \"Olivia\", \"William\"],\n",
    "    \"Department\": [\"HR\", \"Sales\", \"IT\", \"Marketing\", \"Finance\"],\n",
    "}\n",
    "\n",
    "salaries_data = {\n",
    "    \"EmployeeID\": [1, 2, 3, 4, 5],\n",
    "    \"Salary\": [5000, 6000, 4500, 7000, 5500],\n",
    "}\n",
    "\n",
    "employees_df = pd.DataFrame(employees_data)\n",
    "salaries_df = pd.DataFrame(salaries_data)\n",
    "\n",
    "# Function doc string to give more context to the model for use of this skill\n",
    "@skill\n",
    "def plot_salaries(names: list[str], salaries: list[int]):\n",
    "    \"\"\"\n",
    "    Displays the bar chart  having name on x-axis and salaries on y-axis\n",
    "    Args:\n",
    "        names (list[str]): Employees' names\n",
    "        salaries (list[int]): Salaries\n",
    "    \"\"\"\n",
    "    # plot bars\n",
    "    import matplotlib.pyplot as plt\n",
    "\n",
    "    plt.bar(names, salaries)\n",
    "    plt.xlabel(\"Employee Name\")\n",
    "    plt.ylabel(\"Salary\")\n",
    "    plt.title(\"Employee Salaries\")\n",
    "    plt.xticks(rotation=45)\n",
    "\n",
    "    # Adding count above for each bar\n",
    "    for i, salary in enumerate(salaries):\n",
    "        plt.text(i, salary + 1000, str(salary), ha='center', va='bottom')\n",
    "    plt.show()\n",
    "\n",
    "\n",
    "agent = Agent([employees_df, salaries_df], config = {'llm': llm})\n",
    "agent.add_skills(plot_salaries)\n",
    "\n",
    "response = agent.chat(\"Plot the employee salaries against names\")"
   ]
  },
  {
   "cell_type": "code",
   "execution_count": null,
   "metadata": {},
   "outputs": [],
   "source": [
    "import pandasai as pai\n",
    "pai.clear_cache()"
   ]
  },
  {
   "cell_type": "markdown",
   "metadata": {},
   "source": [
    "### Conclusion\n",
    "\n",
    "PandasAI represents a major advancement in data analysis, effectively bridging the gap between traditional coding methods and intuitive natural language interactions. By automating repetitive tasks, generating accurate insights, and seamlessly transforming data, it enables users to extract maximum value from their data without needing extensive coding skills. As PandasAI continues to evolve, it is set to revolutionize the way data scientists, analysts, and anyone working with data interact with and derive insights from the ever-expanding sea of information.\n",
    "\n",
    "![PandasAI](https://miro.medium.com/v2/resize:fit:1400/format:webp/1*oHz4ylE7Dzf8BYt12PKFog.png)"
   ]
  },
  {
   "cell_type": "markdown",
   "metadata": {},
   "source": []
  }
 ],
 "metadata": {
  "kernelspec": {
   "display_name": "Python 3",
   "language": "python",
   "name": "python3"
  },
  "language_info": {
   "codemirror_mode": {
    "name": "ipython",
    "version": 3
   },
   "file_extension": ".py",
   "mimetype": "text/x-python",
   "name": "python",
   "nbconvert_exporter": "python",
   "pygments_lexer": "ipython3",
   "version": "3.undefined.undefined"
  }
 },
 "nbformat": 4,
 "nbformat_minor": 2
}
